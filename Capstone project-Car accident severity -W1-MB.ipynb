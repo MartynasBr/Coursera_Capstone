{
 "cells": [
  {
   "cell_type": "markdown",
   "metadata": {},
   "source": [
    "# Capstone project - Car accident severity (Week 1)\n",
    "### Applied Data Science project - IBM (Coursera)"
   ]
  },
  {
   "cell_type": "markdown",
   "metadata": {},
   "source": [
    "## Table of contents\n",
    "* [Introduction: Business Problem](#introduction)"
   ]
  },
  {
   "cell_type": "markdown",
   "metadata": {},
   "source": [
    "### 1. Introduction"
   ]
  },
  {
   "cell_type": "markdown",
   "metadata": {},
   "source": [
    "#### 1.1 A description of the problem and a discussion of the background"
   ]
  },
  {
   "cell_type": "markdown",
   "metadata": {},
   "source": [
    "Serious situation with COVID-19 in the world should change travel habits. More people will start to avoid public transport, because of possibility to get sick. So some of them will start to travel to work on feet or by bike. \n",
    "\n",
    "Another reason, which will eventually change travel habits is the fact that the world is getting greener. People understand that they has to do something to reduce co2 emmission. Of course some of them is starting to use electric car, however, some people choose to travel on foot or by bike.\n",
    "\n",
    "I will use *Collisions* data from Seattle city to generate a few most worrying neighborhoods based on my criteria."
   ]
  },
  {
   "cell_type": "markdown",
   "metadata": {},
   "source": [
    "#### 1.2 A description of the data and how it will be used to solve the problem."
   ]
  },
  {
   "cell_type": "markdown",
   "metadata": {},
   "source": [
    "Based on definition of my problem, factors that will influence our decission are:\n",
    "* number of collisions, which includes pedestrians and bicycles.\n",
    "* additional factors may have contributed to the cillisions (weather, road condition, light condition and etc.)\n",
    "* seriousity of collisions.\n",
    "\n",
    "I decided to use regularly spaced grid of locations, centered around city center. Also, I will use various Machine Learning methods to analyze data and find\n",
    "\n",
    "Following data sources will be needed to extract/generate the required information:\n",
    "* ArcGIS Metadata Form of all year collisions data set from **Seattle** city."
   ]
  }
 ],
 "metadata": {
  "kernelspec": {
   "display_name": "Python",
   "language": "python",
   "name": "conda-env-python-py"
  },
  "language_info": {
   "codemirror_mode": {
    "name": "ipython",
    "version": 3
   },
   "file_extension": ".py",
   "mimetype": "text/x-python",
   "name": "python",
   "nbconvert_exporter": "python",
   "pygments_lexer": "ipython3",
   "version": "3.6.11"
  }
 },
 "nbformat": 4,
 "nbformat_minor": 4
}
